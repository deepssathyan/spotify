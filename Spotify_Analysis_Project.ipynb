{
  "nbformat": 4,
  "nbformat_minor": 0,
  "metadata": {
    "colab": {
      "provenance": []
    },
    "kernelspec": {
      "name": "python3",
      "display_name": "Python 3"
    },
    "language_info": {
      "name": "python"
    }
  },
  "cells": [
    {
      "cell_type": "code",
      "source": [
        "from google.colab import drive\n",
        "drive.mount('/content/drive')"
      ],
      "metadata": {
        "colab": {
          "base_uri": "https://localhost:8080/"
        },
        "id": "jhNV-dQFRpEF",
        "outputId": "d239fbcf-047f-44da-ba07-425180c70b54"
      },
      "execution_count": null,
      "outputs": [
        {
          "output_type": "stream",
          "name": "stdout",
          "text": [
            "Mounted at /content/drive\n"
          ]
        }
      ]
    },
    {
      "cell_type": "code",
      "source": [
        "# Install the spotipy library\n",
        "%pip install spotipy==2.23.0"
      ],
      "metadata": {
        "colab": {
          "base_uri": "https://localhost:8080/"
        },
        "id": "62UNGXWnColF",
        "outputId": "c3925d38-1f44-4624-c7df-184f89320c7d"
      },
      "execution_count": null,
      "outputs": [
        {
          "output_type": "stream",
          "name": "stdout",
          "text": [
            "Collecting spotipy==2.23.0\n",
            "  Downloading spotipy-2.23.0-py3-none-any.whl.metadata (3.3 kB)\n",
            "Collecting redis>=3.5.3 (from spotipy==2.23.0)\n",
            "  Downloading redis-5.2.1-py3-none-any.whl.metadata (9.1 kB)\n",
            "Requirement already satisfied: requests>=2.25.0 in /usr/local/lib/python3.10/dist-packages (from spotipy==2.23.0) (2.32.3)\n",
            "Requirement already satisfied: six>=1.15.0 in /usr/local/lib/python3.10/dist-packages (from spotipy==2.23.0) (1.17.0)\n",
            "Requirement already satisfied: urllib3>=1.26.0 in /usr/local/lib/python3.10/dist-packages (from spotipy==2.23.0) (2.2.3)\n",
            "Requirement already satisfied: async-timeout>=4.0.3 in /usr/local/lib/python3.10/dist-packages (from redis>=3.5.3->spotipy==2.23.0) (4.0.3)\n",
            "Requirement already satisfied: charset-normalizer<4,>=2 in /usr/local/lib/python3.10/dist-packages (from requests>=2.25.0->spotipy==2.23.0) (3.4.0)\n",
            "Requirement already satisfied: idna<4,>=2.5 in /usr/local/lib/python3.10/dist-packages (from requests>=2.25.0->spotipy==2.23.0) (3.10)\n",
            "Requirement already satisfied: certifi>=2017.4.17 in /usr/local/lib/python3.10/dist-packages (from requests>=2.25.0->spotipy==2.23.0) (2024.12.14)\n",
            "Downloading spotipy-2.23.0-py3-none-any.whl (29 kB)\n",
            "Downloading redis-5.2.1-py3-none-any.whl (261 kB)\n",
            "\u001b[2K   \u001b[90m━━━━━━━━━━━━━━━━━━━━━━━━━━━━━━━━━━━━━━━━\u001b[0m \u001b[32m261.5/261.5 kB\u001b[0m \u001b[31m6.9 MB/s\u001b[0m eta \u001b[36m0:00:00\u001b[0m\n",
            "\u001b[?25hInstalling collected packages: redis, spotipy\n",
            "Successfully installed redis-5.2.1 spotipy-2.23.0\n"
          ]
        }
      ]
    },
    {
      "cell_type": "code",
      "source": [
        "# Authentication\n",
        "import spotipy\n",
        "from spotipy.oauth2 import SpotifyClientCredentials\n",
        "import pandas as pd\n",
        "import time\n",
        "import matplotlib.pyplot as plt\n",
        "import seaborn as sns"
      ],
      "metadata": {
        "id": "EAk_K7-PjDeR"
      },
      "execution_count": null,
      "outputs": []
    },
    {
      "cell_type": "code",
      "source": [
        "# #setting up cred\n",
        "# import spotipy\n",
        "# from spotipy.oauth2 import SpotifyOAuth\n",
        "\n",
        "# CLIENT_ID = \"24034e4f22914755a3091fac35295b36\"\n",
        "# CLIENT_SECRET = \"8817607c2bff46b4a0867d9f18d0af3d\"\n",
        "# REDIRECT_URI = \"http://localhost:8888/callback\"  # Keep this default\n",
        "\n",
        "# sp = spotipy.Spotify(auth_manager=SpotifyOAuth(\n",
        "#     client_id=CLIENT_ID,\n",
        "#     client_secret=CLIENT_SECRET,\n",
        "#     redirect_uri=REDIRECT_URI,\n",
        "#     scope=\"user-library-read playlist-read-private audio-features\"\n",
        "# ))\n"
      ],
      "metadata": {
        "id": "3-SxhS3woFaa"
      },
      "execution_count": 34,
      "outputs": []
    },
    {
      "cell_type": "code",
      "source": [
        "# # Authenticate\n",
        "# client_id = \"24034e4f22914755a3091fac35295b36\"\n",
        "# client_secret = \"8817607c2bff46b4a0867d9f18d0af3d\"\n",
        "# sp = spotipy.Spotify(auth_manager=SpotifyClientCredentials(client_id=client_id, client_secret=client_secret))"
      ],
      "metadata": {
        "id": "1BAlb7K1jD5s"
      },
      "execution_count": 35,
      "outputs": []
    },
    {
      "cell_type": "code",
      "source": [
        "import spotipy\n",
        "from spotipy.oauth2 import SpotifyClientCredentials\n",
        "import pandas as pd\n",
        "from tqdm import tqdm\n",
        "import time\n",
        "\n",
        "# Set up authentication\n",
        "client_credentials_manager = SpotifyClientCredentials(\n",
        "    client_id=\"24034e4f22914755a3091fac35295b36\",\n",
        "    client_secret=\"8817607c2bff46b4a0867d9f18d0af3d\"\n",
        ")\n",
        "\n",
        "# Create Spotify client\n",
        "sp = spotipy.Spotify(client_credentials_manager=client_credentials_manager)\n",
        "\n",
        "# Test the connection by searching for a track\n",
        "results = sp.search(q='year:2023', type='track', limit=1)\n",
        "print(\"Successfully connected to Spotify API!\")\n",
        "print(\"\\\n",
        "Sample Track:\", results['tracks']['items'][0]['name'])"
      ],
      "metadata": {
        "colab": {
          "base_uri": "https://localhost:8080/"
        },
        "id": "RUWT3JvCs55e",
        "outputId": "92f58b37-143c-4d4f-c335-35dcd3d004fa"
      },
      "execution_count": 40,
      "outputs": [
        {
          "output_type": "stream",
          "name": "stdout",
          "text": [
            "Successfully connected to Spotify API!\n",
            "Sample Track: No Pole\n"
          ]
        }
      ]
    },
    {
      "cell_type": "code",
      "source": [
        "def extract_large_tracks_dataset(total_tracks=10000, batch_size=50):\n",
        "    \"\"\"Extract a large number of tracks with progress tracking\"\"\"\n",
        "    all_tracks = []\n",
        "    iterations = total_tracks // batch_size\n",
        "\n",
        "    # Create years range for more diverse data\n",
        "    years = list(range(2010, 2024))\n",
        "\n",
        "    with tqdm(total=total_tracks, desc=\"Fetching tracks\") as pbar:\n",
        "        for year in years:\n",
        "            offset = 0\n",
        "            while len(all_tracks) < total_tracks and offset < 1000:  # Spotify limits to 1000 results per query\n",
        "                try:\n",
        "                    results = sp.search(\n",
        "                        q=f'year:{year}',\n",
        "                        type='track',\n",
        "                        limit=batch_size,\n",
        "                        offset=offset\n",
        "                    )\n",
        "\n",
        "                    if not results['tracks']['items']:\n",
        "                        break\n",
        "\n",
        "                    for track in results['tracks']['items']:\n",
        "                        if len(all_tracks) >= total_tracks:\n",
        "                            break\n",
        "\n",
        "                        track_info = {\n",
        "                            'id': track['id'],\n",
        "                            'name': track['name'],\n",
        "                            'artist': ','.join([artist['name'] for artist in track['artists']]),\n",
        "                            'artist_id': ','.join([artist['id'] for artist in track['artists']]),\n",
        "                            'album': track['album']['name'],\n",
        "                            'popularity': track['popularity'],\n",
        "                            'release_date': track['album']['release_date'],\n",
        "                            'duration_ms': track['duration_ms'],\n",
        "                            'explicit': track['explicit'],\n",
        "                            'preview_url': track['preview_url'],\n",
        "                            'external_url': track['external_urls']['spotify']\n",
        "                        }\n",
        "                        all_tracks.append(track_info)\n",
        "                        pbar.update(1)\n",
        "\n",
        "                    offset += batch_size\n",
        "                    time.sleep(0.1)  # Rate limiting\n",
        "\n",
        "                except Exception as e:\n",
        "                    print(f\"Error at offset {offset} for year {year}: {str(e)}\")\n",
        "                    time.sleep(1)  # Wait longer if we hit an error\n",
        "                    continue\n",
        "\n",
        "            if len(all_tracks) >= total_tracks:\n",
        "                break\n",
        "\n",
        "    df = pd.DataFrame(all_tracks)\n",
        "    return df\n",
        "\n",
        "# Extract tracks\n",
        "print(\"Starting extraction of 10,000 tracks...\")\n",
        "tracks_df = extract_large_tracks_dataset(10000)\n",
        "\n",
        "# Basic statistics\n",
        "print(\"\\\n",
        "Dataset Overview:\")\n",
        "print(\"Total tracks collected:\", len(tracks_df))\n",
        "print(\"\\\n",
        "Sample of collected data:\")\n",
        "print(tracks_df.head())\n",
        "\n",
        "# Save to CSV\n",
        "tracks_df.to_csv('spotify_10k_tracks.csv', index=False)\n",
        "print(\"\\\n",
        "Data saved to spotify_10k_tracks.csv\")"
      ],
      "metadata": {
        "colab": {
          "base_uri": "https://localhost:8080/"
        },
        "id": "V6wi26BYs6op",
        "outputId": "d5b7312c-c336-452c-9a96-0679d8c3ac06"
      },
      "execution_count": 41,
      "outputs": [
        {
          "output_type": "stream",
          "name": "stdout",
          "text": [
            "Starting extraction of 10,000 tracks...\n"
          ]
        },
        {
          "output_type": "stream",
          "name": "stderr",
          "text": [
            "Fetching tracks: 100%|██████████| 10000/10000 [02:00<00:00, 82.93it/s]\n"
          ]
        },
        {
          "output_type": "stream",
          "name": "stdout",
          "text": [
            "Dataset Overview:\n",
            "Total tracks collected: 10000\n",
            "Sample of collected data:\n",
            "                       id                  name                        artist  \\\n",
            "0  7BqBn9nzAq8spo5e7cZ0dJ  Just the Way You Are                    Bruno Mars   \n",
            "1  0JXXNGljqupsJaZsgSbMZV            Sure Thing                        Miguel   \n",
            "2  7FAFkQQZFeNwOFzTrSDFIh             The Spins  Mac Miller,Empire Of The Sun   \n",
            "3  42qNWdLKCI41S4uzfamhFM                 Duvet                           bôa   \n",
            "4  2tJulUYLDKOg9XrtVkMgcJ               Grenade                    Bruno Mars   \n",
            "\n",
            "                                       artist_id                 album  \\\n",
            "0                         0du5cEVh5yTK9QJze8zA0C  Doo-Wops & Hooligans   \n",
            "1                         360IAlyVv4PCEVjgyMZrxK     All I Want Is You   \n",
            "2  4LLpKhyESsyAXpc4laK94U,67hb7towEyKvt5Z8Bx306c     K.I.D.S. (Deluxe)   \n",
            "3                         5jTtGLk1mGFMY5lQOvJYUj              Twilight   \n",
            "4                         0du5cEVh5yTK9QJze8zA0C  Doo-Wops & Hooligans   \n",
            "\n",
            "   popularity release_date  duration_ms  explicit preview_url  \\\n",
            "0          85   2010-05-11       220734     False        None   \n",
            "1          84   2010-11-26       195373     False        None   \n",
            "2          80   2010-08-13       195873      True        None   \n",
            "3          82   2010-04-20       203600     False        None   \n",
            "4          78   2010-05-11       222091     False        None   \n",
            "\n",
            "                                        external_url  \n",
            "0  https://open.spotify.com/track/7BqBn9nzAq8spo5...  \n",
            "1  https://open.spotify.com/track/0JXXNGljqupsJaZ...  \n",
            "2  https://open.spotify.com/track/7FAFkQQZFeNwOFz...  \n",
            "3  https://open.spotify.com/track/42qNWdLKCI41S4u...  \n",
            "4  https://open.spotify.com/track/2tJulUYLDKOg9Xr...  \n",
            "Data saved to spotify_10k_tracks.csv\n"
          ]
        }
      ]
    },
    {
      "cell_type": "code",
      "source": [],
      "metadata": {
        "id": "msFsbTF0x7--"
      },
      "execution_count": null,
      "outputs": []
    }
  ]
}